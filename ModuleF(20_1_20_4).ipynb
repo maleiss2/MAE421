{
  "nbformat": 4,
  "nbformat_minor": 0,
  "metadata": {
    "colab": {
      "provenance": [],
      "authorship_tag": "ABX9TyNN8DY4yBpAVHE9nEf3CnMU",
      "include_colab_link": true
    },
    "kernelspec": {
      "name": "python3",
      "display_name": "Python 3"
    },
    "language_info": {
      "name": "python"
    }
  },
  "cells": [
    {
      "cell_type": "markdown",
      "metadata": {
        "id": "view-in-github",
        "colab_type": "text"
      },
      "source": [
        "<a href=\"https://colab.research.google.com/github/maleiss2/MAE421/blob/main/ModuleF(20_1_20_4).ipynb\" target=\"_parent\"><img src=\"https://colab.research.google.com/assets/colab-badge.svg\" alt=\"Open In Colab\"/></a>"
      ]
    },
    {
      "cell_type": "markdown",
      "source": [
        "# **20.1 Numerical Differentiation Problem Statement**\n",
        "The process of estimating a function's derivative at a specific point using numerical techniques is known as numerical differentiation. The following is the problem statement for numerical differentiation:\n",
        "\n",
        "We are trying to approximate the derivative of f(x) at x0 given a function f(x) and a location x0. The derivative can be approximated using a variety of techniques, such as splines, polynomial interpolation, and finite differences.\n",
        "\n",
        "The most popular technique for numerical differentiation is the finite difference approach. In this approach, the derivative is roughly estimated using the values of the function at two places, one on either side of the point x0. Finite difference techniques come in a variety of forms, such as forward, backward, and central difference techniques.\n",
        "\n",
        "With a polynomial of degree n—where n is the number of points utilised to estimate the derivative—one can approximate the function f(x) using the polynomial interpolation technique. Next, to roughly approximate the derivative of the function at x0, the polynomial's derivative is computed and evaluated at that point.\n",
        "\n",
        "In order to approximate the derivative of the function at x0, the piecewise polynomial function f(x) is fitted to using the spline approach by computing the derivative of the spline at the point x0.\n",
        "\n",
        "Whereas exact derivative calculations are either impractical or impossible, numerical differentiation is a helpful tool in many branches of research and engineering. In addition to many other domains, it is extensively utilised in numerical analysis, computational physics, and financial modelling."
      ],
      "metadata": {
        "id": "ROgBBqvZaB6D"
      }
    },
    {
      "cell_type": "markdown",
      "source": [
        "# **20.2 Finite Difference Approximating Derivatives**\n",
        "The finite difference method is a popular way to estimate derivatives numerically. If we have a function f(x) and a point x0, we can use the finite difference formula to estimate the derivative of f(x) at x0. There are three types of finite difference formulas: forward, backward, and central.\n",
        "\n",
        "To use the forward difference formula, we need two points, x0 and x1, where x1 is close to x0. The first-order forward difference formula for estimating the derivative of f(x) at x0 is (f(x1) - f(x0)) / h, where h is the distance between x1 and x0.\n",
        "\n",
        "We can derive higher order forward difference formulas by using more points. For example, the second-order forward difference formula requires three points: f''(x0) ≈ (f(x2) - 2f(x1) + f(x0)) / h^2.\n",
        "\n",
        "The backward difference formula is similar to the forward difference formula, but x1 is a small distance h away from x0 in the opposite direction. The first-order backward difference formula for estimating the derivative of f(x) at x0 is (f(x0) - f(x1)) / h.\n",
        "\n",
        "Higher order backward difference formulas can also be derived using more points. For example, the second-order backward difference formula requires three points: f''(x0) ≈ (f(x0) - 2f(x1) + f(x2)) / h^2.\n",
        "\n",
        "The central difference formula uses three points, x0, x1, and x2, where x1 and x2 are equidistant from x0 but on opposite sides. The first-order central difference formula for estimating the derivative of f(x) at x0 is (f(x1) - f(x2)) / (2h).\n",
        "\n",
        "We can derive higher order central difference formulas using more points. For example, the second-order central difference formula requires five points: f''(x0) ≈ (f(x2) - 2f(x0) + f(x2)) / h^2.\n",
        "\n",
        "Choosing which finite difference formula to use depends on the required accuracy and the characteristics of the function being approximated. The central difference formula is typically more accurate than the forward or backward difference formulas, but may not be appropriate if the function is not smooth or differentiable at x0."
      ],
      "metadata": {
        "id": "BOwekm7TaJc5"
      }
    },
    {
      "cell_type": "markdown",
      "source": [
        "# **20.3 Approximating of Higher Order Derivatives**\n",
        "The finite difference method can be used not only for approximating first-order derivatives of a function but also for higher-order derivatives. This involves using the same basic method but applying it to the appropriate higher-order derivative formula. For instance, to estimate the second derivative of a function f(x) at a point x0, the second-order central difference formula can be employed. Similarly, higher-order derivatives can be approximated using higher-order finite difference formulas. However, as the order of the derivative and the finite difference formula increases, the accuracy of the approximation may decrease, especially if the function is not very smooth or has sharp changes. It is essential to carefully choose the order of the finite difference formula and the step size h in order to balance accuracy and computational efficiency. In some cases, adaptive methods may be necessary to adjust the step size h based on the local characteristics of the function being approximated."
      ],
      "metadata": {
        "id": "8i28J-8JaSla"
      }
    },
    {
      "cell_type": "markdown",
      "source": [
        "# **20.4 Numerical Differentiation with Noise**\n",
        "Numerical differentiation is a technique that uses numerical methods to estimate the derivatives of a function. However, real-world data often contains noise, which can make it difficult to accurately estimate derivatives using numerical differentiation. To address this issue, there are several approaches that can be used.\n",
        "\n",
        "One way to deal with noise is to first smooth the data using a low-pass filter to remove high-frequency noise while retaining the underlying trend of the data. Once the data has been smoothed, numerical differentiation can be applied to estimate derivatives more accurately.\n",
        "\n",
        "Another approach is to use a regression-based method to estimate the derivative. In this approach, a regression model is first fitted to the noisy data, and then the derivative of the fitted model is estimated. This method can be more robust to noise as the regression model can be designed to fit the underlying trend of the data while minimizing the impact of noise.\n",
        "\n",
        "It is important to carefully choose the numerical differentiation method based on the level and type of noise present in the data. Some methods may be more sensitive to noise and may produce inaccurate results if the noise level is high. In general, it is recommended to use methods that are more robust to noise, such as smoothed differentiation or regression-based methods, when dealing with noisy data."
      ],
      "metadata": {
        "id": "bjB774fKaZxC"
      }
    }
  ]
}