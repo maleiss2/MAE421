{
  "nbformat": 4,
  "nbformat_minor": 0,
  "metadata": {
    "colab": {
      "provenance": [],
      "authorship_tag": "ABX9TyMOyoHR7bKBz8zcSpJlZt37",
      "include_colab_link": true
    },
    "kernelspec": {
      "name": "python3",
      "display_name": "Python 3"
    },
    "language_info": {
      "name": "python"
    }
  },
  "cells": [
    {
      "cell_type": "markdown",
      "metadata": {
        "id": "view-in-github",
        "colab_type": "text"
      },
      "source": [
        "<a href=\"https://colab.research.google.com/github/maleiss2/MAE421/blob/main/ModuleB(17_4_17_5).ipynb\" target=\"_parent\"><img src=\"https://colab.research.google.com/assets/colab-badge.svg\" alt=\"Open In Colab\"/></a>"
      ]
    },
    {
      "cell_type": "markdown",
      "source": [
        "# **17.4 Lagrange Polynomial Interpolation**\n",
        "A continuous polynomial of degree N minus 1 that traverses a given collection of N data points is known as a Lagrange interpolating polynomial. In order to get the Lagrange Interpolating Polynomial particular to the N data points, one must first find an ordered combination of N Lagrange Polynomials and multiply them by each y-coordinate. The specified set of data points and their limitations are perfectly fitted by this one-of-a-kind polynomial. For each x-coordinate in the data collection, the rate of change values might be included in the constraints, for instance.\n",
        "\n",
        "We will calculate a Lagrange Interpolating Polynomial only after taking into account the exact set of data points for the sake of simplicity.\n",
        "\n",
        "\n",
        "A Lagrange Interpolating Polynomial is shown as: for a given set of (x1, y1), (x2, y2),..., (xN, yN):"
      ],
      "metadata": {
        "id": "mhXBdqydBeu1"
      }
    },
    {
      "cell_type": "markdown",
      "source": [
        "![17.4Lagrange1.PNG](data:image/png;base64,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)"
      ],
      "metadata": {
        "id": "H-62kqerB5S7"
      }
    },
    {
      "cell_type": "markdown",
      "source": [
        "Where the yi‘s are the y-coordinates from the given data set (in respect to their paired x-coordinate) and where each φi (x) are individual Lagrange Polynomials formed by using the x-coordinates from the given N data points. The Lagrange Polynomial equation is:"
      ],
      "metadata": {
        "id": "FKaiGoIUCADr"
      }
    },
    {
      "cell_type": "markdown",
      "source": [
        "![17.4Lagrange2.PNG](data:image/png;base64,iVBORw0KGgoAAAANSUhEUgAAAUQAAABACAYAAABiDA5kAAAAAXNSR0IArs4c6QAAAARnQU1BAACxjwv8YQUAAAAJcEhZcwAADsMAAA7DAcdvqGQAAAoKSURBVHhe7ZyNsdQ4EIRfCsRACuRACMRACmRABmRABERAAiRABuSwVx/lvtLp9DO2JXvt7a/KtTzbu5Zao56Rdou3hzHGmL/YEI0xZsGGaIwxCzZEY4xZsCEaY8yCDfEAvn79+vj48ePy1/WhP58+fXr8+vVrOdPnbhrAFh3Mc2NDnMifP38eHz58eHz58mU5cx9+/vz5ePfu3eP79+/LmTJ31gCiOszkjslGKH7o4xHYECdCkN7VCIDK6O3trVkh3V0DiOgwg7snG0E/P3/+/Lev/HsmNsRJUDFQOcwewLNhMtaqk1fRAFo6zOIVkk0K2xMcM7EhToJsRla7O79//65WR6+iAbR0mMErJRtBX9GYbYpZ2BAnoMnx48eP5cx/IatzPc12CvAj9qL0rPfv3/87oZjI/L3FwHhfvsfzahpASYdZtJLNjL6tQc+iDTIv2kFFy/k90P6ZVaINcQIEQS2TYRAELK/cQ/Bw3xGBCgQmz+KV53/79u3fYNXkWQvvzZeLr6YBlHSYQSvZzOrbGvR8TFvmxSvjvBfihn7NwoY4AYIwMmgK2JkZrwWThODlYJJtpWQEr6YBlHSYQSvZpIzs2xaolqkIGd+SeW8h2vet2BAnQCBEzICAZVkRzZx8ZvSIQDt5PgG7h5IRvJoGUNJBaCLzvBQMg0oqhe2ElibRZLO2b7Q91a91RAxJfcaQR2FDvCDRgCVQ8slwJFp+7F1KlYzg1TSAowwxmmxG9m0LvX3kLdgQL0hk0AgWJkIksGfBMrXVTs4zYXvBVzKCO2jAOV3HoHo/cWkZ4kiiyaY3vrNBL+InTwICrWhfWkGWzqVE4moPNsQJKDOSoWsQrFQAZwUsQcpzSwFL+2mfvgnutQ+zKH3GlTWAtF0yodbSvqTDDGhTT7Ne32bDs3kuxlZLEtzDNXRTFUvc0OZaVRvp+x5siJOg8qllOc5rGaHKg4l2VOBiUqp2MCXaSgCqvfxbAdkLPhlaySiurEEO1+gnE7ZES4fR9JLN2r6NBg1kgkoker7iCrhGWzFA9YVYa7UzWh1vxYY4CQY4zXyAAeSBjAFwjgBK750Bn8+z0oBTxiUoS5OZay1D5LNqFcBdNADaKJMp0dJhBqVks7VvI6FdMmDglRjgSMccMGvMHV15D6Bzfl8K7+GYxeGGSIfXBA73I8ARgzka+tmaRFeAyVQzRMaE662xuYMGTNDcfFIiOoymlGyuhkxQFS/6ca5Wheu+VoLey2GGyMDR2S2TAwFKGebZUZ8x9atSC8DomFxdg54ZnhmbV0426Jbqqr5QydaYXR3CYYa4d/DOyMKjWFsVPwvSPP/ZxJaq/Yoa5GbI/lWaHLboMJIrJxu8IG23tlJKyYd+cp6+8u+ZHGKIBNaI8h4Rr2gsV4TgzI9XglglZnMNStXy2Vwt2aCh9ExJv1wRR5v+IVFOh1rLjijpXoMxxoymaYi4M5lHBoRLK2tGDU4mli+7BFUf19O9AVWUpX0ZssgVlwjGmOenaoiYIOajfT+ZIQbHNUysZFg5Ko9LSw1Mks/Q/gGfy30ts8WgvWw2xsygaIhat8uYtJ+SGiAGFqnUoj+k5B7u7X2LFDVE2sZnRg5XnMYYKDqVqkGMEDBCjEN/Q9RIZEw9MDme2dsfPLtClIn68OHj+Y+1FN9BdZhWavrKW6xZMkcrxPwZNc42RGPMfSk6FQaW/mYQo0r/xry4J60YARNN74PWHqJgX5JnRIwzaoheMhtj1lJ0IAwnrdYwDVWDqg5z46uhb5lb1aR+3Mp9LeMEltU2MGPMDIqGmP5qPP0GGFPDkEpffHAPRwnMVV/Q5OgZwGdjtDyrZHoyTV6NMWY01TUqJqVlrA4qx1qlh4HVlrIy0nSJLaNNP0/LXD4nX44D5hlZLh9Nq+93gn6qmo9gXY7nVTQXo7XvbtpFTYj7aFwNPiO6zC7xjNUhpp3vr94dtjRIbq0tEOtyPK+ouRipfdcQoyLzI+7W/p8GrGWaNc4Othp7Tf6q9JKTdTk+ab+q5mKU9l1D5CE9I9IXJ5heb1DWlvSjS+JRoEm+DfBKMM6lcbQux/8HJK+uuRihfdMQqcwwOgyvBdcZEKrEZzOuWVDt1r4oUoCih4IUXfi79p7Z0A6ChfHkt6GCIIqMcY6SYD7eLV2kAdpoNaF2cf4MjtJlJi3N1Y/0i1DFJ69nMGt+jNC+WyGa/yPh9e14CgPMoPLKPUwyTToN/hlQaRMoTBCCUef2TAoCON0CaekC0oUJrAl6dvV/hC4zaWnOOfqhLzDpJ4loj+nsZfb82Ku9DXEDqpxV5dRgkBl8DgL3GVDbmSSYwB7oH4eI6kLAErhMhpp5Hs1MXWYS1Zx70DutFM9mxvzYq70NcQMEFgHWg4lP1cH9W2FweVbk6E0Kwb1UaXszch58UV00iZkIW0Fb9bt3RCsG7p2hSw7XiIv0OVRyPD9NEJgE97V0imquZ+5aTi56Ro4II+ZHTk/7HjbEDWgy9lCQj1gKjITqbG8VBHnwRXXpLa3PYpYuOVwbZYhRzfkMzP6ZmDE/etr3sCFuIJqVWZ5wX61yI1uPDogeTDgmfi1oaAumEAmqPPiiuvD5rb2eZ9SFyYuh0C7u4+8auS4ziWiOsartNYjVEclgDb35wTWOVOvSuZS92tsQN6AlX2uJymTnemviHw0GQxAqM+cwuVRJRIIqD76ILlxDD56zJ3BH0tNF46h9Lu6lcquR6zKTiOa0V0mmdd+RROYH53MtGSP6U2Ov9jbEDWjJV8tSnFe2ZfC0L5UufRhsPqMWDKPh+QQKbdfkoCqirVqmacIrEHtgCmn7e7rwXH2uKhvpwis8oy45qiZr5LrMpKc52qoftIu4pJ9p+3g/x1FE5gdwTYafxmatr7BXexviRhjEfAAZVAYvPa8BZQIRiCmcPyJjE3wESvp8TIDnl5ZJBFTPEGUeeZ9KugDnFfjAK23iyAP8WXUR3FMzy5ouMylpTvtoR6ot48o52q9xgMh4j2Dt/KBfetV40E6ZY84I7W2IGyHQmExpYK1Bmf0ZiUwQgrp0z511AfrdqlBqusxkr+a0eU9VNQNMTcaZ9q9VmY/Q3oa4A8RvVRItGOSjJ06UniH2MvFddemZ4YgKZSt7NMdkjqjI10AMSmuMEEOkfzLJnFHa2xB3wEBRzm/JrsrKDPqzBaP2dUrQVoKzZQx31CU3w3xjP6LLTLZqroqc92811BnQl3T8aRvtLOk7Unsb4gAIwrVVjQb4mYKQftCm9EgnGP/GCKJZ+C66MOFyXTjEWl1mslZzDBEzKe3hnQV9QN+0HzJuXlNGa29DNMaYBRuiMcYs2BCNMWbBhmiMMQs2RGOMWbAhGmPMgg3RGGMWbIjGGLNgQzTGmAUbojHGLNgQjTFmwYZojDELNkRjjFmwIRpjzIIN0Rhj/vJ4/APCqR1xag+FIAAAAABJRU5ErkJggg==)"
      ],
      "metadata": {
        "id": "Yei3KuwnCC4L"
      }
    },
    {
      "cell_type": "code",
      "source": [
        "from typing import List, Tuple\n",
        "\n",
        "def lagrange_interpolation(points: List[Tuple[float, float]]) -> str:\n",
        "    n = len(points)\n",
        "    x_values, y_values = list(zip(*points))\n",
        "    result = \"P(x) = \"\n",
        "    for i in range(n):\n",
        "        term = str(y_values[i]) + \" * \"\n",
        "        for j in range(n):\n",
        "            if j != i:\n",
        "                term += \"(x - \" + str(x_values[j]) + \") / (\" + str(x_values[i]) + \" - \" + str(x_values[j]) + \") * \"\n",
        "        result += term[:-3]\n",
        "        if i != n - 1:\n",
        "            result += \" + \"\n",
        "    return result\n",
        "\n",
        "#You can use this function to find the Lagrange polynomial that passes through a set of points by calling it with a list of tuples, each containing the x and y coordinates of a point. The function will return a string representation of the polynomial.\n",
        "\n",
        "#For example:\n",
        "points = [(0, 1), (1, 3), (2, 5)]\n",
        "print(lagrange_interpolation(points))\n",
        "\n",
        "#This polynomial can be used to interpolate the points you passed in."
      ],
      "metadata": {
        "colab": {
          "base_uri": "https://localhost:8080/"
        },
        "id": "V5wzAH9GCL2K",
        "outputId": "b4bcfc2b-554c-4aaa-fcf9-cdddb407136a"
      },
      "execution_count": 1,
      "outputs": [
        {
          "output_type": "stream",
          "name": "stdout",
          "text": [
            "P(x) = 1 * (x - 1) / (0 - 1) * (x - 2) / (0 - 2) + 3 * (x - 0) / (1 - 0) * (x - 2) / (1 - 2) + 5 * (x - 0) / (2 - 0) * (x - 1) / (2 - 1)\n"
          ]
        }
      ]
    },
    {
      "cell_type": "markdown",
      "source": [
        "# **17.5 Newton’s Polynomial Interpolation**\n",
        "Newton's Polynomial Interpolation is a method for constructing a polynomial that passes through a given set of data points. It is based on the idea of using the differences between the function values at consecutive points to approximate the function with a polynomial. The resulting polynomial is called the Newton form or the Newton interpolation polynomial. It is computed using the divided differences method, which is an efficient way to compute the coefficients of the polynomial. The Newton interpolation polynomial has some good properties, such as being easy to evaluate and having a unique representation, but it also has some drawbacks, such as being sensitive to the order of the data points."
      ],
      "metadata": {
        "id": "JTqyvT6pCU5L"
      }
    },
    {
      "cell_type": "code",
      "source": [
        "import sys\n",
        "import traceback\n",
        "class NewtonPolynomialInterpolation:\n",
        "    X = [0.0, 2.0, 3.0, 5.0, 8.0]\n",
        "    Y = [0.8, 3.2, 2.8, 4.5, 1.9]\n",
        "\n",
        "    def __init__(self):\n",
        "        self.n = len(self.X)\n",
        "\n",
        "    def compute(self):\n",
        "        try:\n",
        "            print(\"      x      y\")\n",
        "            for a in range(int(self.X[-1]) * 2 + 1):\n",
        "                t = 0.5 * a\n",
        "                print(\"{:7.2f}{:7.2f}\".format(t, self.__interpolate(t)))\n",
        "        except Exception as e:\n",
        "            raise\n",
        "\n",
        "    def __interpolate(self, t):\n",
        "        try:\n",
        "            c = [0 for _ in range(self.n)]\n",
        "            w = [0 for _ in range(self.n)]\n",
        "            for i in range(0, self.n):\n",
        "                w[i] = self.Y[i]\n",
        "                for j in reversed(range(i)):\n",
        "                    w[j] = (w[j + 1] - w[j]) / (self.X[i] - self.X[j])\n",
        "                c[i] = w[0]\n",
        "            s = c[self.n - 1]\n",
        "            for i in reversed(range(self.n - 1)):\n",
        "                s = s * (t - self.X[i]) + c[i]\n",
        "            return s\n",
        "        except Exception as e:\n",
        "            raise\n",
        "if __name__ == '__main__':\n",
        "    try:\n",
        "        obj = NewtonPolynomialInterpolation()\n",
        "        obj.compute()\n",
        "    except Exception as e:\n",
        "        traceback.print_exc()\n",
        "        sys.exit(1)"
      ],
      "metadata": {
        "colab": {
          "base_uri": "https://localhost:8080/"
        },
        "id": "eCtbgAprCkas",
        "outputId": "c1581d29-c086-43ca-c45a-c378310222f4"
      },
      "execution_count": 2,
      "outputs": [
        {
          "output_type": "stream",
          "name": "stdout",
          "text": [
            "      x      y\n",
            "   0.00   0.80\n",
            "   0.50   2.49\n",
            "   1.00   3.23\n",
            "   1.50   3.37\n",
            "   2.00   3.20\n",
            "   2.50   2.95\n",
            "   3.00   2.80\n",
            "   3.50   2.85\n",
            "   4.00   3.17\n",
            "   4.50   3.74\n",
            "   5.00   4.50\n",
            "   5.50   5.32\n",
            "   6.00   6.03\n",
            "   6.50   6.37\n",
            "   7.00   6.05\n",
            "   7.50   4.70\n",
            "   8.00   1.90\n"
          ]
        }
      ]
    }
  ]
}