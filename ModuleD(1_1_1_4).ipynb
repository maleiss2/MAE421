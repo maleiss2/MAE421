{
  "nbformat": 4,
  "nbformat_minor": 0,
  "metadata": {
    "colab": {
      "provenance": [],
      "authorship_tag": "ABX9TyNOnk1rDMvBXg29d4NV2vSm",
      "include_colab_link": true
    },
    "kernelspec": {
      "name": "python3",
      "display_name": "Python 3"
    },
    "language_info": {
      "name": "python"
    }
  },
  "cells": [
    {
      "cell_type": "markdown",
      "metadata": {
        "id": "view-in-github",
        "colab_type": "text"
      },
      "source": [
        "<a href=\"https://colab.research.google.com/github/maleiss2/MAE421/blob/main/ModuleD(1_1_1_4).ipynb\" target=\"_parent\"><img src=\"https://colab.research.google.com/assets/colab-badge.svg\" alt=\"Open In Colab\"/></a>"
      ]
    },
    {
      "cell_type": "markdown",
      "source": [
        "# **1.1 Getting Started with Python**\n",
        "**Set up working environment**\n",
        "\n",
        "Set up Python working environment using **Anaconda**:\n",
        "Anaconda is a distribution of Python that comes with many popular packages and tools pre-installed, making it an easy way to set up a Python environment for scientific computing and data analysis. Here's how you can set up a Python working environment using Anaconda:\n",
        "\n",
        "Download Anaconda: Go to the Anaconda website (https://www.anaconda.com/products/distribution) and download the latest version of Anaconda for your operating system.\n",
        "\n",
        "Install Anaconda: Follow the installation instructions for your operating system to install Anaconda.\n",
        "\n",
        "Launch Anaconda Navigator: After installation, you can launch Anaconda Navigator from your start menu or by typing `anaconda-navigator` in the terminal or command prompt.\n",
        "\n",
        "Create a Virtual Environment: Virtual environments allow you to have separate Python environments for different projects, with different packages and dependencies. In Anaconda Navigator, go to the Environments tab and click on the Create button to create a new virtual environment.\n",
        "\n",
        "Install Packages: Anaconda comes with many popular packages pre-installed, but you can also install additional packages as needed. To install packages, go to the Environments tab, select your virtual environment, and click on the Not Installed tab to search for and install packages.\n",
        "\n",
        "Launch Jupyter Notebook: Jupyter Notebook is a popular tool for data analysis and scientific computing in Python. To launch Jupyter Notebook, go to the Home tab in Anaconda Navigator and click on the Launch button under Jupyter Notebook.\n",
        "\n",
        "Start coding: Once you have created a virtual environment and launched Jupyter Notebook, you're ready to start coding in Python. You can create a new Jupyter Notebook and start writing and running Python code.\n",
        "\n",
        "With Anaconda, you now have a complete Python environment set up and ready to use for scientific computing and data analysis!"
      ],
      "metadata": {
        "id": "jQO5G1iKzwAs"
      }
    },
    {
      "cell_type": "markdown",
      "source": [
        "Set up Python working environment using **Miniconda**: Miniconda is a lightweight version of Anaconda that only includes the conda package manager and Python. Here's how you can set up a Python working environment using Miniconda:\n",
        "\n",
        "Download Miniconda: Go to the Miniconda website (https://docs.conda.io/en/latest/miniconda.html) and download the latest version of Miniconda for your operating system.\n",
        "\n",
        "Install Miniconda: Follow the installation instructions for your operating system to install Miniconda.\n",
        "\n",
        "Launch the Terminal or Command Prompt: After installation, open the terminal or command prompt to start using conda.\n",
        "\n",
        "Create a Virtual Environment: Virtual environments allow you to have separate Python environments for different projects, with different packages and dependencies. To create a new virtual environment, type the following command in the terminal or command prompt:\n",
        "\n",
        "**`conda create --name myenv python=3.8`**\n",
        "\n",
        "Replace myenv with the name you want to give to your virtual environment and replace 3.8 with the version of Python you want to use.\n",
        "\n",
        "Activate the Virtual Environment: To use the virtual environment, you need to activate it. Type the following command in the terminal or command prompt to activate your virtual environment:\n",
        "\n",
        "**`conda activate myenv`**\n",
        "\n",
        "Replace myenv with the name of your virtual environment.\n",
        "\n",
        "Install Packages: Miniconda comes with a limited set of packages pre-installed, but you can install additional packages as needed. To install packages, type the following command in the terminal or command prompt:\n",
        "\n",
        "**`conda install <package-name>`**\n",
        "\n",
        "Replace `<package-name>` with the name of the package you want to install.\n",
        "\n",
        "Start coding: Once you have created a virtual environment and installed any necessary packages, you're ready to start coding in Python. You can open the terminal or command prompt, start the Python interpreter by typing python, and start writing and running Python code.\n",
        "With Miniconda, you now have a minimal, yet complete, Python environment set up and ready to use!"
      ],
      "metadata": {
        "id": "fZTzxnVN0Sks"
      }
    },
    {
      "cell_type": "markdown",
      "source": [
        "**Three ways to run Python code**\n",
        "\n",
        "**Using Python shell or Ipython shell  to run Python**:\n",
        "Both the Python shell and IPython shell are interactive environments for running Python code. The Python shell is the default interactive environment that comes with a Python installation, while IPython (short for Interactive Python) is a more advanced and feature-rich version of the Python shell.\n",
        "\n",
        "**Using the Python shell:** To start the Python shell, simply open the terminal or command prompt and type python to launch the Python interpreter. You can then type in Python code and see the results immediately. For example:\n",
        "\n",
        "\n",
        "```\n",
        "$python\n",
        "Python 3.8.5(default,Jul 28 2020, 12:59:40)\n",
        "[GCC 9.3.0] on linux\n",
        "Type \"help\",\"copyright\",\"credits\" or \"license\" for more information.\n",
        ">>>print(\"Hello, World!\")\n",
        "Hello, World!\n",
        ">>>\n",
        "```\n",
        "**Using IPython shell** : To start the IPython shell, simply type ipython in the terminal or command prompt. IPython provides additional features and functionality compared to the standard Python shell, such as tab-completion, command history, and advanced debugging. For example:\n",
        "```\n",
        "$ipython\n",
        "Python 3.8.5(default,Jul 28 2020, 12:59:40)\n",
        "[GCC 9.3.0] on linux\n",
        "Type 'help','copyright','credits' or 'license' for more information\n",
        "IPython 7.18.1-- An enhanced Interactive Python. Type '?' for help.\n",
        "\n",
        "In [1]: print(\"Hello, World!\")\n",
        "Hello, World!\n",
        "\n",
        "In [2]:\n",
        "```\n",
        "In both the Python shell and IPython shell, you can write and run Python code, define variables, and explore the functionality of Python libraries and packages. The IPython shell provides additional features and a more user-friendly interface, making it a popular choice for interactive Python programming.\n",
        "\n",
        "**2. Run Python script/file from command line**:\n",
        "To run a Python script from the command line, you need to open the terminal or command prompt and navigate to the directory where the script is located. Then, you can run the script by using the python command followed by the name of the script. For example, if you have a script named myscript.py, you can run it by typing the following command in the terminal or command prompt:\n",
        "\n",
        "\n",
        "`$ python myscript.py`\n",
        "\n",
        "Note that in order for this to work, you must have the python executable in your system's PATH. If you are using a virtual environment, make sure to activate it first before running the script.\n",
        "\n",
        "It's also possible to make the script executable by adding the following line at the beginning of the script and making the script file executable with chmod:\n",
        "\n",
        "`#!/usr/bin/env python`\n",
        "\n",
        "With this line in place, you can run the script directly by typing the script name followed by any arguments:\n",
        "\n",
        "`$ ./myscript.py`\n",
        "\n",
        "This method can be more convenient, as you don't have to type python every time you want to run the script.\n",
        "\n",
        "**3. Using Jupyter Notebook**: Jupyter Notebook is a web-based interactive environment for running Python (and other programming languages) code. Jupyter Notebook allows you to create and share documents that contain live code, equations, visualizations, and narrative text. It's a popular choice for data science and machine learning tasks, as well as for exploratory programming and instructional materials.\n",
        "\n",
        "Here's how you can use Jupyter Notebook to run Python code:\n",
        "\n",
        "Install Jupyter Notebook: You can install Jupyter Notebook by using pip or conda. For example, to install it using pip, run the following command:\n",
        "\n",
        "`$ pip install jupyter`\n",
        "\n",
        "Start Jupyter Notebook: To start Jupyter Notebook, open the terminal or command prompt and run the following command:\n",
        "\n",
        "`$ jupyter notebook`\n",
        "\n",
        "This will start the Jupyter Notebook server and open a web browser window to the Jupyter Notebook dashboard.\n",
        "\n",
        "Create a new notebook: From the Jupyter Notebook dashboard, click on the \"New\" button and select \"Python 3\" to create a new Python notebook.\n",
        "\n",
        "Run code in a Jupyter Notebook: Once you have created a new notebook, you can write and run Python code in cells. To run a cell, simply click on the cell and press Shift + Enter. The output will be displayed below the cell.\n",
        "\n",
        "Jupyter Notebook provides many features for running and visualizing Python code, including inline plotting, LaTeX-formatted text, and the ability to include images and videos. Additionally, Jupyter Notebook makes it easy to share your work with others, as notebooks can be exported as HTML, PDF, and other formats."
      ],
      "metadata": {
        "id": "b7sQfUQ509_r"
      }
    },
    {
      "cell_type": "markdown",
      "source": [
        "**Zen of Python**\n",
        "The Zen of Python is a collection of 19 aphorisms that serve as guiding principles for writing computer programs in the Python programming language. It was written by Tim Peters, a long-time contributor to the Python community. The Zen of Python is included in the standard Python distribution and can be accessed by running the following command in the Python shell:\n",
        "\n",
        "\n",
        "`$ python -c \"import this\"`\n",
        "\n",
        "Here are the 19 aphorisms of the Zen of Python:\n",
        "\n",
        "1. Beautiful is better than ugly.\n",
        "2. Explicit is better than implicit.\n",
        "3. Simple is better than complex.\n",
        "4. Complex is better than complicated.\n",
        "5. Flat is better than nested.\n",
        "6. Sparse is better than dense.\n",
        "7. Readability counts.\n",
        "8. Special cases aren't special enough to break the rules.\n",
        "9. Although practicality beats purity.\n",
        "10. Errors should never pass silently.\n",
        "11. Unless explicitly silenced.\n",
        "12. In the face of ambiguity, refuse the temptation to guess.\n",
        "13. There should be one-- and preferably only one --obvious way to do it.\n",
        "14. Although that way may not be obvious at first unless you're Dutch.\n",
        "15. Now is better than never.\n",
        "16. Although never is often better than right now.\n",
        "17. If the implementation is hard to explain, it's a bad idea.\n",
        "18. If the implementation is easy to explain, it may be a good idea.\n",
        "19. Namespaces are one honking great idea -- let's do more of those!**\n",
        "\n",
        "These aphorisms are meant to serve as a reminder of the importance of writing clear, readable, and maintainable code. By following these principles, Python programmers can write code that is easier to understand, debug, and extend, making it more likely to be adopted and used by others.\n",
        "\n"
      ],
      "metadata": {
        "id": "MxjE6ooI3ZjC"
      }
    },
    {
      "cell_type": "markdown",
      "source": [
        "# **1.2 Python as a Calculator**\n",
        "Python can be used as a simple calculator for performing arithmetic operations. The basic arithmetic operations that can be performed in Python include addition, subtraction, multiplication, division, and modulo (remainder after division). Here are some examples of using Python as a calculator:"
      ],
      "metadata": {
        "id": "FbpxqXsa3uWC"
      }
    },
    {
      "cell_type": "code",
      "source": [
        "# addition\n",
        "print(3 + 4)  # 7\n",
        "\n",
        "# subtraction\n",
        "print(5 - 2)  # 3\n",
        "\n",
        "# multiplication\n",
        "print(3 * 4)  # 12\n",
        "\n",
        "# division (floating-point division)\n",
        "print(6 / 2)  # 3.0\n",
        "\n",
        "# integer division (floor division)\n",
        "print(7 // 2)  # 3\n",
        "\n",
        "# modulo\n",
        "print(7 % 2)  # 1"
      ],
      "metadata": {
        "colab": {
          "base_uri": "https://localhost:8080/"
        },
        "id": "l19PY8G831SZ",
        "outputId": "975dc2e5-d925-4044-9edc-91acf6fa8e39"
      },
      "execution_count": 1,
      "outputs": [
        {
          "output_type": "stream",
          "name": "stdout",
          "text": [
            "7\n",
            "3\n",
            "12\n",
            "3.0\n",
            "3\n",
            "1\n"
          ]
        }
      ]
    },
    {
      "cell_type": "markdown",
      "source": [
        "Note that in Python 3, the / operator performs floating-point division, whereas in Python 2, it performs integer division. If you want integer division in Python 3, you can use the // operator. Additionally, you can use parentheses to specify the order of operations, just like in a regular calculator:"
      ],
      "metadata": {
        "id": "cafoGUlY37T6"
      }
    },
    {
      "cell_type": "code",
      "execution_count": 2,
      "metadata": {
        "colab": {
          "base_uri": "https://localhost:8080/"
        },
        "id": "u11P8mbdzjVw",
        "outputId": "89dce252-be67-4ae0-975f-9f7dec3e59fb"
      },
      "outputs": [
        {
          "output_type": "stream",
          "name": "stdout",
          "text": [
            "23\n",
            "35\n"
          ]
        }
      ],
      "source": [
        "print(3 + 4 * 5)  # 23\n",
        "print((3 + 4) * 5)  # 35"
      ]
    },
    {
      "cell_type": "markdown",
      "source": [
        "These examples show that Python can be used as a simple calculator for performing arithmetic operations, but it is much more powerful than that. With its rich libraries, high-level data structures, and ability to interact with other languages and systems, Python is a versatile tool that can be used for a wide range of tasks beyond simple arithmetic."
      ],
      "metadata": {
        "id": "4HqWfSLZ3-16"
      }
    },
    {
      "cell_type": "markdown",
      "source": [
        "**Basic Data Types of Python**\n",
        "\n",
        "Python has several built-in data types that are used to store values. Here are some of the most commonly used basic data types in Python:\n",
        "\n",
        "int (integer) - This data type is used to represent positive or negative whole numbers, such as 42 or -7.\n",
        "\n",
        "float (floating-point number) - This data type is used to represent real numbers, such as 3.14 or -2.718.\n",
        "\n",
        "str (string) - This data type is used to represent sequences of characters, such as \"Hello, World!\" or \"Python\". Strings can be enclosed in either single quotes (') or double quotes (\").\n",
        "\n",
        "bool (Boolean) - This data type has two possible values: True and False. It is used to represent binary conditions or flags.\n",
        "\n",
        "None - This special value represents the absence of a value. It is often used to represent the default value of a variable.\n",
        "\n",
        "Here are some examples of declaring and using variables of each data type:"
      ],
      "metadata": {
        "id": "wJ3XQw4p4Blh"
      }
    },
    {
      "cell_type": "code",
      "source": [
        "# integer\n",
        "x = 42\n",
        "\n",
        "# floating-point number\n",
        "y = 3.14\n",
        "\n",
        "# string\n",
        "z = \"Hello, World!\"\n",
        "\n",
        "# Boolean\n",
        "flag = True\n",
        "\n",
        "# None\n",
        "value = None\n",
        "\n",
        "print(x + x)  # 84\n",
        "print(y * y)  # 9.8596\n",
        "print(z)  # \"Hello, World!\"\n",
        "print(not flag)  # False\n",
        "print(value)  # None"
      ],
      "metadata": {
        "colab": {
          "base_uri": "https://localhost:8080/"
        },
        "id": "yVylU7J14IOC",
        "outputId": "e1a854f9-3ac8-464c-88c4-b118836a3a81"
      },
      "execution_count": 3,
      "outputs": [
        {
          "output_type": "stream",
          "name": "stdout",
          "text": [
            "84\n",
            "9.8596\n",
            "Hello, World!\n",
            "False\n",
            "None\n"
          ]
        }
      ]
    },
    {
      "cell_type": "markdown",
      "source": [
        "In addition to these basic data types, Python also provides several other data types, including lists, tuples, sets, dictionaries, and more, that allow you to store collections of values or key-value pairs. These data structures provide more advanced ways to organize and manipulate data in your programs."
      ],
      "metadata": {
        "id": "pt-1X5El4Lwx"
      }
    },
    {
      "cell_type": "markdown",
      "source": [
        "# **1.3 Managing Packages**\n",
        "In Python, packages are collections of modules that provide additional functionality beyond what is included in the Python standard library. Packages can be installed either globally or in a virtual environment, and they can be managed using a package manager such as pip (short for \"Pip Installs Packages\").\n",
        "\n",
        "Here are the steps to manage Python packages using pip:\n",
        "\n",
        "1. Install pip: If you are using Python 2, pip is included with your installation by default. If you are using Python 3, you can install pip by running the following command in your terminal or command prompt: \n",
        "`python3 -m ensurepip --upgrade`\n",
        "\n",
        "2. Install a package: To install a package using pip, you can use the following command in your terminal or command prompt: `pip install <package-name>`. For example, to install the requests package, you can run: `pip install requests`.\n",
        "\n",
        "3. Uninstall a package: To uninstall a package using pip, you can use the following command in your terminal or command prompt: \n",
        "`pip uninstall <package-name>`. \n",
        "For example, to uninstall the requests package, you can run `pip uninstall requests`.\n",
        "\n",
        "4. List installed packages: To see a list of all the packages that you have installed using pip, you can use the following command in your terminal or command prompt: \n",
        "`pip list`.\n",
        "\n",
        "5. Upgrade a package: To upgrade an installed package to the latest version, you can use the following command in your terminal or command prompt: \n",
        "`pip install <package-name> --upgrade`. \n",
        "For example, to upgrade the requests package, you can run:\n",
        "`pip install requests --upgrade`.\n",
        "\n",
        "6. Create and use virtual environments: Virtual environments are isolated environments for Python that allow you to install packages locally for a specific project, without affecting the global installation of Python packages. To create a virtual environment, you can use the virtualenv package, which can be installed using the following command: \n",
        "`pip install virtualenv`. \n",
        "To create a virtual environment, you can run the following command: \n",
        "`virtualenv <env-name>`. \n",
        "To activate the virtual environment, you can run the following command: `source <env-name>/bin/activate` (on Linux/macOS) or `<env-name>\\Scripts\\activate` (on Windows). To deactivate the virtual environment, you can run the command `deactivate`.\n",
        "\n",
        "By using these steps, you can manage your Python packages effectively, ensuring that you have the necessary packages installed for your projects, and that you can easily upgrade or uninstall packages as needed."
      ],
      "metadata": {
        "id": "5lPeIwWp4Ohh"
      }
    },
    {
      "cell_type": "markdown",
      "source": [
        "# **1.4 Introduction to Jupyter Notebook**\n",
        "Jupyter Notebook is an open-source web-based application that allows you to create and share documents that contain live code, equations, visualizations, and narrative text. Jupyter Notebook is a popular tool for data analysis and scientific computing, as it provides an interactive and intuitive environment for working with data.\n",
        "\n",
        "Here are the steps to use Jupyter Notebook:\n",
        "\n",
        "Install Jupyter Notebook: To install Jupyter Notebook, you can use the following command in your terminal or command prompt: `pip install jupyter`.\n",
        "\n",
        "Start Jupyter Notebook: To start Jupyter Notebook, you can use the following command in your terminal or command prompt: `jupyter notebook`. This will open a web browser showing the Jupyter Notebook dashboard, where you can navigate to the directory where you want to create your notebook.\n",
        "\n",
        "Create a new notebook: To create a new notebook, click the \"New\" button on the Jupyter Notebook dashboard, and select \"Python 3\" from the dropdown menu. This will create a new notebook with a single code cell.\n",
        "\n",
        "Enter code in a cell: You can enter code in a code cell by clicking in the cell and typing. You can then run the code in the cell by pressing Shift + Enter or by clicking the \"Run\" button in the toolbar.\n",
        "\n",
        "Add a new cell: To add a new cell, you can click the \"Insert\" button in the toolbar, or use the keyboard shortcut b to create a new cell below the current cell, or a to create a new cell above the current cell.\n",
        "\n",
        "Change cell type: To change the type of a cell from code to markdown (for narrative text), or vice versa, you can select the cell and click the dropdown menu in the toolbar that says \"Code\".\n",
        "\n",
        "Save your notebook: To save your notebook, you can click the \"Save\" button in the toolbar, or use the keyboard shortcut Ctrl + s (or Cmd + s on macOS).\n",
        "\n",
        "Download your notebook: To download your notebook, you can click the \"Download\" button in the toolbar and select the format you want to download it in, such as .ipynb (Jupyter Notebook file format), .py (Python script), or .pdf (Portable Document Format).\n",
        "\n",
        "By using these steps, you can quickly get started with Jupyter Notebook and start exploring and analyzing data in an interactive and intuitive environment."
      ],
      "metadata": {
        "id": "3P7uyrqD5Bta"
      }
    }
  ]
}