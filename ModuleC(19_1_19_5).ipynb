{
  "nbformat": 4,
  "nbformat_minor": 0,
  "metadata": {
    "colab": {
      "provenance": [],
      "authorship_tag": "ABX9TyMTeMyldQBfKpOhUakF13EJ",
      "include_colab_link": true
    },
    "kernelspec": {
      "name": "python3",
      "display_name": "Python 3"
    },
    "language_info": {
      "name": "python"
    }
  },
  "cells": [
    {
      "cell_type": "markdown",
      "metadata": {
        "id": "view-in-github",
        "colab_type": "text"
      },
      "source": [
        "<a href=\"https://colab.research.google.com/github/maleiss2/MAE421/blob/main/ModuleC(19_1_19_5).ipynb\" target=\"_parent\"><img src=\"https://colab.research.google.com/assets/colab-badge.svg\" alt=\"Open In Colab\"/></a>"
      ]
    },
    {
      "cell_type": "markdown",
      "source": [
        "# **19.1 Root Finding Problem Statement**\n",
        "Root-finding problem refers to the mathematical task of finding a numerical solution (known as a root) of an equation f(x) = 0, where f is a given function and x is an unknown variable. The goal is to determine a value of x such that when substituted into the equation, the left-hand side equals the right-hand side. This type of problem arises in various fields including mathematics, science, engineering, and finance. Here is an example of a root-finding algorithm implemented in Python using the bisection method:"
      ],
      "metadata": {
        "id": "l7-8UcgUGogk"
      }
    },
    {
      "cell_type": "code",
      "execution_count": 1,
      "metadata": {
        "id": "n-9to0dCGkmz"
      },
      "outputs": [],
      "source": [
        "def bisection(f, a, b, tol=1e-5, max_iter=100):\n",
        "    \"\"\"\n",
        "    Find the root of a continuous function f in [a,b] using the bisection method.\n",
        "    \n",
        "    Parameters:\n",
        "        f (function): The function to find the root of.\n",
        "        a (float): The lower bound of the interval.\n",
        "        b (float): The upper bound of the interval.\n",
        "        tol (float, optional): The tolerance for the root. Defaults to 1e-5.\n",
        "        max_iter (int, optional): The maximum number of iterations. Defaults to 100.\n",
        "        \n",
        "    Returns:\n",
        "        float: The root of the function within the specified tolerance.\n",
        "    \"\"\"\n",
        "    if f(a) * f(b) >= 0:\n",
        "        raise ValueError(\"f(a) and f(b) must have opposite signs.\")\n",
        "        \n",
        "    c = a\n",
        "    for i in range(max_iter):\n",
        "        c = (a + b) / 2\n",
        "        if f(c) == 0 or (b - a) / 2 < tol:\n",
        "            return c\n",
        "        if f(c) * f(a) < 0:\n",
        "            b = c\n",
        "        else:\n",
        "            a = c\n",
        "    raise Exception(\"The method failed after {} iterations.\".format(max_iter))\n"
      ]
    },
    {
      "cell_type": "markdown",
      "source": [
        "This implementation uses the bisection method to find a root of a continuous function f in the interval [a, b]. The method repeatedly bisects the interval and narrows in on the root, until the desired tolerance is achieved or the maximum number of iterations is reached."
      ],
      "metadata": {
        "id": "2KoQ-DxIHW4z"
      }
    },
    {
      "cell_type": "markdown",
      "source": [
        "# **19.2 Tolerance**\n",
        "Tolerance is a measure of the precision of a numerical result in root-finding problems. It represents the maximum allowable deviation between the calculated solution (the root of the equation) and the actual solution. Tolerance is typically expressed as a small positive value and is used as a stopping criterion in root-finding algorithms. The goal is to find a root that is accurate to within the specified tolerance.\n",
        "\n",
        "For example, if the tolerance is set to 1e-5, the algorithm will continue iterating until the difference between successive approximations of the root is less than 1e-5, or the root is found to that accuracy. The choice of tolerance depends on the problem at hand and the desired accuracy of the solution. A smaller tolerance results in a more accurate solution but may also require more computationally expensive calculations."
      ],
      "metadata": {
        "id": "Incx3f4_HX3b"
      }
    },
    {
      "cell_type": "markdown",
      "source": [
        "# **19.3 Bisection Method**\n",
        "The bisection method is a root-finding algorithm that involves repeatedly bisecting an interval and narrowing in on the root of a continuous function. The method starts with an interval [a, b] that contains the root and divides it into two subintervals of equal length. The sign of the function value at the midpoint of the interval is used to determine which subinterval contains the root. The process is repeated on the subinterval that contains the root until the root is found to within a specified tolerance.\n",
        "\n",
        "The bisection method is a simple and robust algorithm that is guaranteed to converge to the root, as long as the function is continuous and the interval contains the root. The method is relatively slow compared to other root-finding algorithms, as it requires many iterations to converge to the root. However, it is often used as a reliable starting point for other more advanced algorithms.\n",
        "\n",
        "Here is a high-level description of the bisection method:\n",
        "\n",
        "1. Start with an interval [a, b] that contains the root.\n",
        "2. Evaluate the function f at the midpoint c = (a + b) / 2.\n",
        "3. If f(c) is equal to 0, the root has been found and the algorithm stops.\n",
        "4. If the sign of f(c) is opposite to the sign of f(a), set b = c.\n",
        "5. If the sign of f(c) is opposite to the sign of f(b), set a = c.\n",
        "6. Repeat steps 2 to 5 until the width of the interval [a, b] is less than a specified tolerance or a maximum number of iterations is reached.\n",
        "The bisection method can be used to find the roots of real-valued functions in one variable.\n",
        "\n",
        "\n",
        "\n"
      ],
      "metadata": {
        "id": "79FfKH62Hr_b"
      }
    },
    {
      "cell_type": "code",
      "source": [
        "def bisection(f, a, b, tol=1e-5, max_iter=100):\n",
        "    \"\"\"\n",
        "    Find the root of a continuous function f in [a,b] using the bisection method.\n",
        "    \n",
        "    Parameters:\n",
        "        f (function): The function to find the root of.\n",
        "        a (float): The lower bound of the interval.\n",
        "        b (float): The upper bound of the interval.\n",
        "        tol (float, optional): The tolerance for the root. Defaults to 1e-5.\n",
        "        max_iter (int, optional): The maximum number of iterations. Defaults to 100.\n",
        "        \n",
        "    Returns:\n",
        "        float: The root of the function within the specified tolerance.\n",
        "    \"\"\"\n",
        "    if f(a) * f(b) >= 0:\n",
        "        raise ValueError(\"f(a) and f(b) must have opposite signs.\")\n",
        "        \n",
        "    c = a\n",
        "    for i in range(max_iter):\n",
        "        c = (a + b) / 2\n",
        "        if f(c) == 0 or (b - a) / 2 < tol:\n",
        "            return c\n",
        "        if f(c) * f(a) < 0:\n",
        "            b = c\n",
        "        else:\n",
        "            a = c\n",
        "    raise Exception(\"The method failed after {} iterations.\".format(max_iter))"
      ],
      "metadata": {
        "id": "uALxpjWJH5oq"
      },
      "execution_count": 2,
      "outputs": []
    },
    {
      "cell_type": "markdown",
      "source": [
        "In this code, the bisection function takes a function f, a lower bound a, an upper bound b, a tolerance tol (defaulting to 1e-5), and a maximum number of iterations max_iter (defaulting to 100). The function raises a ValueError if f(a) and f(b) have the same sign, indicating that the interval does not contain the root. The bisection method is implemented in a loop, with the midpoint c of the interval [a, b] calculated in each iteration. The algorithm stops when either f(c) is equal to 0, or when the width of the interval [a, b] is less than tol. In other words, the algorithm stops when the root has been found with sufficient accuracy, as specified by the tolerance."
      ],
      "metadata": {
        "id": "8k7u_dNyIDOz"
      }
    },
    {
      "cell_type": "markdown",
      "source": [
        "# **19.4 Newton-Raphson Method**\n",
        "The Newton-Raphson method is a root-finding algorithm that uses an iterative approach to approximate the roots of a real-valued function. It is based on the idea of linear approximation and is used to find roots of functions that are well-behaved, such as differentiable and having a non-zero derivative.\n",
        "\n",
        "The method starts with an initial guess x0 and then uses the tangent line at that point to estimate the root. The equation of the tangent line is used to update the guess, and the process is repeated until the root is found to within a specified tolerance.\n",
        "\n",
        "The Newton-Raphson method is a fast and efficient algorithm for finding roots, as it can converge to the root much faster than the bisection method. However, it requires the function to be well-behaved, and it can also converge to a local minimum or maximum, rather than the root, if the initial guess is not close enough to the root.\n",
        "\n",
        "Here is a high-level description of the Newton-Raphson method:\n",
        "\n",
        "1. Start with an initial guess x0 for the root.\n",
        "2. Compute the first derivative f'(x0) of the function f at x0.\n",
        "3. Update the guess using the formula x1 = x0 - f(x0) / f'(x0).\n",
        "4. Repeat steps 2 and 3 until the difference between x1 and x0 is less than a specified tolerance or a maximum number of iterations is reached.\n",
        "The Newton-Raphson method can be used to find the roots of real-valued functions in one variable."
      ],
      "metadata": {
        "id": "rTTYZpcDIPYa"
      }
    },
    {
      "cell_type": "code",
      "source": [
        "def newton_raphson(f, df, x0, tol=1e-5, max_iter=100):\n",
        "    \"\"\"\n",
        "    Find the root of a differentiable function f using the Newton-Raphson method.\n",
        "    \n",
        "    Parameters:\n",
        "        f (function): The function to find the root of.\n",
        "        df (function): The first derivative of the function f.\n",
        "        x0 (float): The initial guess for the root.\n",
        "        tol (float, optional): The tolerance for the root. Defaults to 1e-5.\n",
        "        max_iter (int, optional): The maximum number of iterations. Defaults to 100.\n",
        "        \n",
        "    Returns:\n",
        "        float: The root of the function within the specified tolerance.\n",
        "    \"\"\"\n",
        "    for i in range(max_iter):\n",
        "        x1 = x0 - f(x0) / df(x0)\n",
        "        if abs(x1 - x0) < tol:\n",
        "            return x1\n",
        "        x0 = x1\n",
        "    raise Exception(\"The method failed after {} iterations.\".format(max_iter))"
      ],
      "metadata": {
        "id": "jVd4ktvJIXcx"
      },
      "execution_count": 3,
      "outputs": []
    },
    {
      "cell_type": "markdown",
      "source": [
        "In this code, the newton_raphson function takes a function f, its first derivative df, an initial guess x0, a tolerance tol (defaulting to 1e-5), and a maximum number of iterations max_iter (defaulting to 100). The function uses a loop to iteratively update the guess, using the formula x1 = x0 - f(x0) / df(x0), until the difference between x1 and x0 is less than tol. If the method fails to converge to a root within max_iter iterations, an exception is raised."
      ],
      "metadata": {
        "id": "-MBxYqxtIYsS"
      }
    },
    {
      "cell_type": "markdown",
      "source": [
        "# **19.5 Root Finding in Python**\n",
        "There are several root-finding methods available in Python, including:\n",
        "\n",
        "**Bisection Method**: This method uses a bisection approach to find the root of a continuous function within an interval. The interval is repeatedly halved until the root is found with the desired accuracy. The scipy library provides an implementation of the bisection method in the scipy.optimize module.\n",
        "\n",
        "**Newton-Raphson Method**: This method uses an iterative approach to find the root of a differentiable function. The method starts with an initial guess and uses the derivative of the function to update the guess at each iteration until the root is found with the desired accuracy. The scipy library provides an implementation of the Newton-Raphson method in the scipy.optimize module.\n",
        "\n",
        "**Secant Method**: This method is similar to the Newton-Raphson method, but instead of using the derivative of the function, it uses two points to estimate the slope of the function. The scipy library provides an implementation of the secant method in the scipy.optimize module.\n",
        "\n",
        "**Brent Method**: This method is a hybrid of the bisection method and the secant method. It provides faster convergence than the bisection method and is more reliable than the secant method. The scipy library provides an implementation of the Brent method in the scipy.optimize module.\n",
        "\n",
        "**Hybrid Method**: This method is a combination of the Newton-Raphson method and the bisection method. It provides a fast convergence rate and improved reliability compared to the Newton-Raphson method. The scipy library provides an implementation of the hybrid method in the scipy.optimize module.\n",
        "\n",
        "All of these root-finding methods can be used to find the roots of a single equation or a system of equations. To use these methods, you need to provide a function to find the root of, an initial guess or range of possible roots, and a tolerance level. The method then iteratively updates the guess until the root is found within the desired accuracy."
      ],
      "metadata": {
        "id": "9KBkZhwlIjPi"
      }
    },
    {
      "cell_type": "code",
      "source": [
        "import scipy.optimize as optimize\n",
        "\n",
        "def func(x):\n",
        "    return x**3 - x**2 + 2\n",
        "\n",
        "root = optimize.newton(func, 2, tol=1e-5, maxiter=100, x1=1)"
      ],
      "metadata": {
        "id": "aXwn1yV-I7Ry"
      },
      "execution_count": 4,
      "outputs": []
    },
    {
      "cell_type": "markdown",
      "source": [
        "In this example, func is the function that we want to find the root of. The optimize.newton function is used to find the root, and it takes the following arguments:\n",
        "\n",
        "func: The function to find the root of.\n",
        "2: An initial guess for the root.\n",
        "tol: The tolerance level. The algorithm stops when the difference between two consecutive guesses is less than this tolerance.\n",
        "maxiter: The maximum number of iterations allowed. The algorithm stops if this number of iterations is reached without finding the root.\n",
        "x1: An additional initial guess for the root. This is used in conjunction with the first initial guess to estimate the slope of the function.\n",
        "The optimize.newton function returns the root of the function that was found using the secant method."
      ],
      "metadata": {
        "id": "IZXoLjlqJFyp"
      }
    }
  ]
}