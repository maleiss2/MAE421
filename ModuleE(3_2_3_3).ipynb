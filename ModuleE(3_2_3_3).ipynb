{
  "nbformat": 4,
  "nbformat_minor": 0,
  "metadata": {
    "colab": {
      "provenance": [],
      "authorship_tag": "ABX9TyONFku7lQLvM76wVPm8yDO0",
      "include_colab_link": true
    },
    "kernelspec": {
      "name": "python3",
      "display_name": "Python 3"
    },
    "language_info": {
      "name": "python"
    }
  },
  "cells": [
    {
      "cell_type": "markdown",
      "metadata": {
        "id": "view-in-github",
        "colab_type": "text"
      },
      "source": [
        "<a href=\"https://colab.research.google.com/github/maleiss2/MAE421/blob/main/ModuleE(3_2_3_3).ipynb\" target=\"_parent\"><img src=\"https://colab.research.google.com/assets/colab-badge.svg\" alt=\"Open In Colab\"/></a>"
      ]
    },
    {
      "cell_type": "markdown",
      "source": [
        "# **3.2 Local Variables and Global Variables**\n",
        "In Python, variables are classified into two categories, local variables and global variables.\n",
        "\n",
        "**Local Variables:**\n",
        "Local variables are defined inside a function, and they can only be accessed within that function. Local variables have a limited scope and are destroyed when the function completes its execution. You can create a local variable in Python by simply assigning a value to it within a function:"
      ],
      "metadata": {
        "id": "iSEBLBk6BFNs"
      }
    },
    {
      "cell_type": "code",
      "source": [
        "def example_function():\n",
        "    x = 5\n",
        "    print(x)\n",
        "\n",
        "#In the above example, x is a local variable and can only be accessed within the example_function() function."
      ],
      "metadata": {
        "id": "IumL85TPBdaD"
      },
      "execution_count": 1,
      "outputs": []
    },
    {
      "cell_type": "markdown",
      "source": [
        "**Global Variables:**\n",
        "Global variables are defined outside of any function, and they can be accessed anywhere within the program, including inside functions. Global variables have a global scope, which means they remain in memory throughout the lifetime of the program. To create a global variable in Python, you can simply assign a value to it outside of any function:"
      ],
      "metadata": {
        "id": "7xDTGx0MBmlz"
      }
    },
    {
      "cell_type": "code",
      "source": [
        "x = 10\n",
        "\n",
        "def example_function():\n",
        "    print(x)\n",
        "\n",
        "example_function()  # Output: 10\n",
        "\n",
        "#In the above example, x is a global variable and can be accessed both inside and outside of the example_function() function."
      ],
      "metadata": {
        "colab": {
          "base_uri": "https://localhost:8080/"
        },
        "id": "-hfC8C8JB0LC",
        "outputId": "e43d17d8-6c50-4a74-c46d-a245c72a5ff7"
      },
      "execution_count": 2,
      "outputs": [
        {
          "output_type": "stream",
          "name": "stdout",
          "text": [
            "10\n"
          ]
        }
      ]
    },
    {
      "cell_type": "markdown",
      "source": [
        "**Note:**\n",
        "It's generally considered good practice to limit the use of global variables in a program, as they can make it harder to understand and debug the code. Local variables are preferred, as they have a smaller scope and are easier to manage. However, global variables can be useful in certain situations, such as when you need to share data between multiple functions."
      ],
      "metadata": {
        "id": "qtdX8f-nCAlK"
      }
    },
    {
      "cell_type": "markdown",
      "source": [
        "# **3.3 Nested functions**\n",
        "In Python, a nested function is a function defined inside another function. The nested function can access variables from the enclosing (outer) function, and it can also access global variables.\n",
        "\n",
        "Here is an example of a nested function:"
      ],
      "metadata": {
        "id": "GuDbQTUTCOai"
      }
    },
    {
      "cell_type": "code",
      "source": [
        "def outer_function(x):\n",
        "    def inner_function(y):\n",
        "        return x + y\n",
        "    return inner_function\n",
        "\n",
        "result = outer_function(5)\n",
        "print(result(3)) # Output: 8\n"
      ],
      "metadata": {
        "colab": {
          "base_uri": "https://localhost:8080/"
        },
        "id": "OG0wxA0-CV_q",
        "outputId": "59529c9d-8284-44b4-c4b9-bd72adb8a432"
      },
      "execution_count": 3,
      "outputs": [
        {
          "output_type": "stream",
          "name": "stdout",
          "text": [
            "8\n"
          ]
        }
      ]
    },
    {
      "cell_type": "markdown",
      "source": [
        "In the above example, `outer_function()` is defined with an argument **x**. Inside `outer_function()`, we define a nested function called `inner_function()`, which takes an argument **y**. `inner_function()` returns the sum of x and y. Finally, `outer_function()` returns the `inner_function()`.\n",
        "\n",
        "We then call `outer_function()` with an argument of **5**, which returns `inner_function()`. We store the result of `outer_function()` in the variable result. We can then call `result()` with an argument of **3**, which calls `inner_function()` and returns **8**.\n",
        "\n",
        "Nested functions can be useful for organizing code and keeping related functionality together. They can also be used to create closures, which are functions that remember the values of variables from the enclosing function even after it has completed execution. Closures can be used to create factory functions, which are functions that create and return other functions."
      ],
      "metadata": {
        "id": "VMraZAfICeYC"
      }
    }
  ]
}