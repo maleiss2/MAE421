{
  "nbformat": 4,
  "nbformat_minor": 0,
  "metadata": {
    "colab": {
      "provenance": [],
      "authorship_tag": "ABX9TyPdGjR/18Q+0un/DiJTM6vw",
      "include_colab_link": true
    },
    "kernelspec": {
      "name": "python3",
      "display_name": "Python 3"
    },
    "language_info": {
      "name": "python"
    }
  },
  "cells": [
    {
      "cell_type": "markdown",
      "metadata": {
        "id": "view-in-github",
        "colab_type": "text"
      },
      "source": [
        "<a href=\"https://colab.research.google.com/github/maleiss2/MAE421/blob/main/ModuleE(3_4_3_7).ipynb\" target=\"_parent\"><img src=\"https://colab.research.google.com/assets/colab-badge.svg\" alt=\"Open In Colab\"/></a>"
      ]
    },
    {
      "cell_type": "markdown",
      "source": [
        "# **3.4 Lambda Functions**\n",
        "\n",
        "here is an example of how to create and use a Lambda function in Python:"
      ],
      "metadata": {
        "id": "UHCPP7pMnWn_"
      }
    },
    {
      "cell_type": "code",
      "source": [
        "# Create a Lambda function to add two numbers\n",
        "add_numbers = lambda x, y: x + y\n",
        "\n",
        "# Call the Lambda function\n",
        "result = add_numbers(3, 5)\n",
        "print(result)"
      ],
      "metadata": {
        "colab": {
          "base_uri": "https://localhost:8080/"
        },
        "id": "VXy4SCuHnexH",
        "outputId": "ca407137-a74f-4359-f887-188361711aa1"
      },
      "execution_count": 1,
      "outputs": [
        {
          "output_type": "stream",
          "name": "stdout",
          "text": [
            "8\n"
          ]
        }
      ]
    },
    {
      "cell_type": "markdown",
      "source": [
        "In this example, we create a Lambda function using the lambda keyword. This function takes two arguments x and y, and returns their sum. We then call the Lambda function with arguments 3 and 5, which results in 8 being assigned to the result variable. Finally, we print the value of result.\n",
        "\n",
        "Lambda functions are useful when you need a small, one-time-use function and don't want to define a named function separately. They are commonly used in functional programming and as arguments to higher-order functions."
      ],
      "metadata": {
        "id": "dNro17EknjNu"
      }
    },
    {
      "cell_type": "markdown",
      "source": [
        "# **3.5 Functions as Arguments to Functions**\n",
        "In Python, functions can be used as arguments to other functions. This is a powerful concept known as higher-order functions. Here's an example:"
      ],
      "metadata": {
        "id": "2CMEuuzUnmZX"
      }
    },
    {
      "cell_type": "code",
      "source": [
        "# Define a function that takes another function as an argument\n",
        "def apply_function(func, arg):\n",
        "    return func(arg)\n",
        "\n",
        "# Define a function to be used as an argument\n",
        "def square(x):\n",
        "    return x**2\n",
        "\n",
        "# Call apply_function with square() as the argument\n",
        "result = apply_function(square, 4)\n",
        "print(result)"
      ],
      "metadata": {
        "colab": {
          "base_uri": "https://localhost:8080/"
        },
        "id": "0H9xiVTPnvK-",
        "outputId": "f11f0e86-9996-4f84-9d5c-26bd22deca4b"
      },
      "execution_count": 2,
      "outputs": [
        {
          "output_type": "stream",
          "name": "stdout",
          "text": [
            "16\n"
          ]
        }
      ]
    },
    {
      "cell_type": "markdown",
      "source": [
        "In this example, apply_function is defined to take two arguments: a function func and an argument arg. The function then returns the result of calling func with arg.\n",
        "\n",
        "We then define a function called square that takes a single argument and returns its square. This function is passed as the first argument to apply_function along with the value 4. The result of calling square(4) is 16, which is then returned and assigned to the result variable. Finally, we print the value of result.\n",
        "\n",
        "This is a simple example, but the concept of passing functions as arguments can be applied to more complex scenarios, such as filtering or mapping data, as well as building more flexible and reusable code."
      ],
      "metadata": {
        "id": "poOWBWNDnzRm"
      }
    },
    {
      "cell_type": "markdown",
      "source": [
        "# **3.6 Summary**\n",
        "In Python, a function is a block of code that performs a specific task. Functions are designed to be reusable, so you can call them multiple times in your code without having to repeat the same code over and over again. They help to break down complex problems into smaller, more manageable parts, making your code easier to read and maintain.\n",
        "\n",
        "Here's an example of a simple function in Python:"
      ],
      "metadata": {
        "id": "yGBYFRtzn0r2"
      }
    },
    {
      "cell_type": "code",
      "source": [
        "def say_hello():\n",
        "    print(\"Hello, world!\")"
      ],
      "metadata": {
        "id": "Qes3jTJ3n8Vu"
      },
      "execution_count": 3,
      "outputs": []
    },
    {
      "cell_type": "markdown",
      "source": [
        "In this example, we define a function called `say_hello` using the def keyword. The function does not take any arguments, and simply prints the string \"Hello, world!\" when it is called.\n",
        "\n",
        "To call the function, we simply use its name followed by parentheses:"
      ],
      "metadata": {
        "id": "f6JAP2LYn_Tf"
      }
    },
    {
      "cell_type": "code",
      "source": [
        "say_hello()"
      ],
      "metadata": {
        "colab": {
          "base_uri": "https://localhost:8080/"
        },
        "id": "m6lumyK0oHc_",
        "outputId": "cc6ac63e-0c25-41d7-fd18-69e3c8a8fce0"
      },
      "execution_count": 4,
      "outputs": [
        {
          "output_type": "stream",
          "name": "stdout",
          "text": [
            "Hello, world!\n"
          ]
        }
      ]
    },
    {
      "cell_type": "markdown",
      "source": [
        "This will execute the code inside the `say_hello` function and print \"Hello, world!\" to the console.\n",
        "\n",
        "Functions in Python can also take arguments, which allows them to perform different tasks depending on the input. Here's an example of a function that takes an argument:"
      ],
      "metadata": {
        "id": "YlzdAwcxoJ1G"
      }
    },
    {
      "cell_type": "code",
      "source": [
        "def say_hello_to(name):\n",
        "    print(\"Hello, \" + name + \"!\")"
      ],
      "metadata": {
        "id": "xDN611lDoNmn"
      },
      "execution_count": 5,
      "outputs": []
    },
    {
      "cell_type": "markdown",
      "source": [
        "In this example, we define a function called `say_hello_to` that takes a single argument called name. When the function is called, it will print a personalized greeting using the name argument.\n",
        "\n"
      ],
      "metadata": {
        "id": "zuavH4vjoPxu"
      }
    },
    {
      "cell_type": "code",
      "source": [
        "say_hello_to(\"Alice\")"
      ],
      "metadata": {
        "colab": {
          "base_uri": "https://localhost:8080/"
        },
        "id": "kRJpjquqoTJO",
        "outputId": "22a6b697-710b-4a5f-e32e-77f61e35f2b2"
      },
      "execution_count": 6,
      "outputs": [
        {
          "output_type": "stream",
          "name": "stdout",
          "text": [
            "Hello, Alice!\n"
          ]
        }
      ]
    },
    {
      "cell_type": "markdown",
      "source": [
        "This will execute the `say_hello_to` function with the argument \"Alice\" and print \"Hello, Alice!\" to the console.\n",
        "\n",
        "Functions in Python are a fundamental building block of programming and are used extensively in a wide variety of applications. They can be used to simplify and organize your code, make it more modular and reusable, and enable you to solve complex problems more efficiently."
      ],
      "metadata": {
        "id": "jhDDy7yCoVW-"
      }
    },
    {
      "cell_type": "markdown",
      "source": [
        "# **3.7 Problems**\n",
        "Sure, here are a few examples of functions in Python code:\n",
        "\n",
        "1. A function to calculate the factorial of a number:"
      ],
      "metadata": {
        "id": "SchcOatJoY7P"
      }
    },
    {
      "cell_type": "code",
      "source": [
        "def factorial(n):\n",
        "    if n == 0:\n",
        "        return 1\n",
        "    else:\n",
        "        return n * factorial(n-1)"
      ],
      "metadata": {
        "id": "WAUXS9iHon8u"
      },
      "execution_count": 7,
      "outputs": []
    },
    {
      "cell_type": "markdown",
      "source": [
        "2. A function to check if a number is prime:"
      ],
      "metadata": {
        "id": "eoRzVeI9orgn"
      }
    },
    {
      "cell_type": "code",
      "source": [
        "def is_prime(n):\n",
        "    if n <= 1:\n",
        "        return False\n",
        "    for i in range(2, int(n**0.5)+1):\n",
        "        if n % i == 0:\n",
        "            return False\n",
        "    return True"
      ],
      "metadata": {
        "id": "fc6jFJDqosIW"
      },
      "execution_count": 8,
      "outputs": []
    },
    {
      "cell_type": "markdown",
      "source": [
        "3. A function to calculate the sum of a list of numbers:"
      ],
      "metadata": {
        "id": "bh7A7F8Qovku"
      }
    },
    {
      "cell_type": "code",
      "source": [
        "def sum_list(numbers):\n",
        "    result = 0\n",
        "    for number in numbers:\n",
        "        result += number\n",
        "    return result"
      ],
      "metadata": {
        "id": "piuUnn3PoxoH"
      },
      "execution_count": 9,
      "outputs": []
    },
    {
      "cell_type": "markdown",
      "source": [
        "4. A function to sort a list of strings alphabetically:"
      ],
      "metadata": {
        "id": "wYAEAEiro1S-"
      }
    },
    {
      "cell_type": "code",
      "source": [
        "def sort_strings(strings):\n",
        "    return sorted(strings)"
      ],
      "metadata": {
        "id": "C0ctGIjto3ee"
      },
      "execution_count": 10,
      "outputs": []
    },
    {
      "cell_type": "markdown",
      "source": [
        "5. A function to calculate the area of a circle given its radius:"
      ],
      "metadata": {
        "id": "gjnZI1iIo58-"
      }
    },
    {
      "cell_type": "code",
      "source": [
        "import math\n",
        "\n",
        "def area_of_circle(radius):\n",
        "    return math.pi * radius**2"
      ],
      "metadata": {
        "id": "npuV1Vb1o72O"
      },
      "execution_count": 11,
      "outputs": []
    },
    {
      "cell_type": "markdown",
      "source": [
        "These are just a few examples of the many types of functions you can create in Python. Functions can be used to perform almost any task, from simple calculations to complex data analysis and manipulation."
      ],
      "metadata": {
        "id": "whsNUFlLo_Mm"
      }
    }
  ]
}