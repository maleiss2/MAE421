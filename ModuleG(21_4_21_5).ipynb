{
  "nbformat": 4,
  "nbformat_minor": 0,
  "metadata": {
    "colab": {
      "provenance": [],
      "authorship_tag": "ABX9TyNB65+fLEpstS18xUjhe/bI",
      "include_colab_link": true
    },
    "kernelspec": {
      "name": "python3",
      "display_name": "Python 3"
    },
    "language_info": {
      "name": "python"
    }
  },
  "cells": [
    {
      "cell_type": "markdown",
      "metadata": {
        "id": "view-in-github",
        "colab_type": "text"
      },
      "source": [
        "<a href=\"https://colab.research.google.com/github/maleiss2/MAE421/blob/main/ModuleG(21_4_21_5).ipynb\" target=\"_parent\"><img src=\"https://colab.research.google.com/assets/colab-badge.svg\" alt=\"Open In Colab\"/></a>"
      ]
    },
    {
      "cell_type": "markdown",
      "source": [
        "# **21.4 Simpson's Rule**\n",
        "\n",
        "Simpson's rule is a technique used to estimate the definite integral of a function by approximating it with a quadratic polynomial and then integrating that polynomial over a specified interval. Essentially, the method involves replacing the function with a quadratic equation that passes through three points: the interval's endpoints and its midpoint. The quadratic equation is determined by a formula, and it is then used to estimate the integral over the interval. This formula is referred to as Simpson's rule, and it gives an exact estimate of the integral if the function is a quadratic or simpler. As the interval size decreases and the function's second derivative becomes smaller, the error in the approximation decreases.\n",
        "\n",
        "The fundamental concept behind Simpson's rule involves substituting the function f(x) with a quadratic polynomial that passes through three points: (a, f(a)), (b, f(b)), and (c, f(c)), where c represents the midpoint of the interval [a, b].\n",
        "\n",
        "The quadratic polynomial is given by the formula:\n",
        "\n",
        "P(x) = f(a) + (f(b) - f(a))/(b - a)(x - a) + (f(c) - f(a))/(c - a)(x - a)*(x - b)/(c - b)\n",
        "\n",
        "Using this polynomial, we can approximate the definite integral of f(x) over the interval [a, b] as follows:\n",
        "\n",
        "∫a^b f(x) dx ≈ ∫a^b P(x) dx = [(b - a)/6]*(f(a) + 4f(c) + f(b))\n",
        "\n",
        "This formula is known as Simpson's rule."
      ],
      "metadata": {
        "id": "OvS5JUp3Etvx"
      }
    },
    {
      "cell_type": "markdown",
      "source": [
        "# **21.5 Computing Integrals In Python**"
      ],
      "metadata": {
        "id": "zhNkx_H_E4MA"
      }
    },
    {
      "cell_type": "code",
      "source": [
        "# Below is an example code to compute the integral of a function and plot the function and the area under the curve using Python's matplotlib library:\n",
        "import numpy as np\n",
        "import matplotlib.pyplot as plt\n",
        "from scipy.integrate import quad\n",
        "\n",
        "# Define the function to integrate\n",
        "def f(x):\n",
        "    return x**2\n",
        "\n",
        "# Define the limits of integration\n",
        "a = 0\n",
        "b = 1\n",
        "\n",
        "# Compute the integral using the quad function\n",
        "result, error = quad(f, a, b)\n",
        "\n",
        "# Plot the function\n",
        "x = np.linspace(a, b, 100)\n",
        "y = f(x)\n",
        "plt.plot(x, y, 'b-', linewidth=2)\n",
        "\n",
        "# Shade the area under the curve\n",
        "verts = [(a, 0), *zip(x, y), (b, 0)]\n",
        "poly = plt.Polygon(verts, facecolor='0.9', edgecolor='0.5')\n",
        "plt.gca().add_patch(poly)\n",
        "\n",
        "# Display the result\n",
        "plt.text(0.5 * (a + b), 0.2, r\"$\\int_0^1 x^2 dx = {}$\".format(result),\n",
        "         horizontalalignment='center', fontsize=12)\n",
        "plt.title('Integration of $x^2$ from 0 to 1')\n",
        "plt.xlabel('x')\n",
        "plt.ylabel('y')\n",
        "plt.ylim(bottom=0)\n",
        "plt.show()\n"
      ],
      "metadata": {
        "colab": {
          "base_uri": "https://localhost:8080/",
          "height": 299
        },
        "id": "UtuJl6kXE9yo",
        "outputId": "a62cae40-0152-45e4-bf86-daff619e2801"
      },
      "execution_count": 1,
      "outputs": [
        {
          "output_type": "display_data",
          "data": {
            "text/plain": [
              "<Figure size 432x288 with 1 Axes>"
            ],
            "image/png": "[encoded data removed]"
          },
          "metadata": {
            "needs_background": "light"
          }
        }
      ]
    },
    {
      "cell_type": "markdown",
      "source": [
        "This code defines the same function f(x) and the same limits of integration a and b as the previous example. It then computes the integral of f(x) using the quad function and saves the result in the result variable.\n",
        "\n",
        "Next, the code creates an array of 100 equally-spaced points between a and b, and evaluates the function f(x) at those points. It then plots the function using a blue line.\n",
        "\n",
        "To shade the area under the curve, the code constructs a polygon using the x and y arrays and the limits of integration a and b, and adds it to the plot as a patch. The `plt.gca().add_patch(poly)` line adds the polygon to the current axes.\n",
        "\n",
        "Finally, the code displays the value of the integral above the plot, and sets the title and axis labels. It then sets the y-axis limits to start at 0 to ensure the area under the curve is fully visible, and shows the plot using the `plt.show()` function.\n",
        "\n",
        "The resulting plot should display the function f(x) = x^2 as a blue line, and the area under the curve between a and b shaded in light gray. The value of the integral should be displayed above the plot."
      ],
      "metadata": {
        "id": "f5ddVQDzFItw"
      }
    }
  ]
}