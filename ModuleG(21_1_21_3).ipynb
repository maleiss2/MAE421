{
  "nbformat": 4,
  "nbformat_minor": 0,
  "metadata": {
    "colab": {
      "provenance": [],
      "authorship_tag": "ABX9TyPUhivxMeWq3VEAM5L8L7dL",
      "include_colab_link": true
    },
    "kernelspec": {
      "name": "python3",
      "display_name": "Python 3"
    },
    "language_info": {
      "name": "python"
    }
  },
  "cells": [
    {
      "cell_type": "markdown",
      "metadata": {
        "id": "view-in-github",
        "colab_type": "text"
      },
      "source": [
        "<a href=\"https://colab.research.google.com/github/maleiss2/MAE421/blob/main/ModuleG(21_1_21_3).ipynb\" target=\"_parent\"><img src=\"https://colab.research.google.com/assets/colab-badge.svg\" alt=\"Open In Colab\"/></a>"
      ]
    },
    {
      "cell_type": "markdown",
      "source": [
        "# **21.1 Numerical Integration Problem Statement**\n",
        "Numerical integration, also known as numerical quadrature, is a technique for approximating the definite integral of a function using numerical methods. The problem involves finding an approximation to the area under the curve of a function f(x) over an interval [a, b]. There are different methods for approximating the definite integral numerically, including the trapezoidal rule, Simpson's rule, Gauss quadrature, and Monte Carlo integration. Each method has its own strengths and weaknesses, and the choice of method depends on the specific problem and desired level of accuracy."
      ],
      "metadata": {
        "id": "04_AlLo-PlmO"
      }
    },
    {
      "cell_type": "markdown",
      "source": [
        "# **21.2 Riemanns Integral**\n",
        "The Riemann integration method was introduced by Bernhard Riemann in the mid-19th century, and it is a classical approach to calculating definite integrals. It involves approximating the region under the curve of a function f(x) over a closed interval [a, b] with rectangles whose areas are then summed up. The Riemann integral is defined as the limit of this sum as the width of the rectangles approaches zero.\n",
        "\n",
        "To mathematically define the Riemann integral, the interval [a, b] is partitioned into n subintervals of equal width, and points are chosen within each subinterval to form the sum. If the limit of this sum as n approaches infinity exists, then the function f(x) is Riemann integrable on [a, b], and the limit represents the definite integral of f(x) over the interval.\n",
        "\n",
        "While the Riemann integral is a useful tool for calculating definite integrals, it has limitations and cannot integrate some functions that exhibit unusual behavior. To overcome these limitations, other integration techniques such as the Lebesgue integral have been developed.\n",
        "\n",
        "The Riemann integral can be defined mathematically as follows:\n",
        "\n",
        "Let f(x) be a function defined on a closed interval [a, b]. Partition the interval [a, b] into n subintervals of equal width:\n",
        "\n",
        "x0 = a, x1 = a + Δx, x2 = a + 2Δx, ..., xn = a + nΔx = b\n",
        "\n",
        "where Δx = (b - a)/n is the width of each subinterval.\n",
        "\n",
        "Choose points xi* in each subinterval [xi-1, xi] and form the sum:\n",
        "\n",
        "S = Σ[f(xi*)Δx]\n",
        "\n",
        "where Σ denotes the sum from i = 1 to n."
      ],
      "metadata": {
        "id": "S8_FYDt7Pqwl"
      }
    },
    {
      "cell_type": "markdown",
      "source": [
        "# **21.3 Trapezoid Rule**\n",
        "The trapezoid rule is a numerical technique that can be used to estimate the definite integral of a function f(x) over a closed interval [a, b]. This method involves dividing the interval into n subintervals of equal length, and approximating the region under the curve with trapezoids whose areas are then computed. The sum of these areas provides an approximation to the definite integral over the interval. The formula for the trapezoid rule involves using the values of the function at the endpoints of the interval and the midpoints of each subinterval. The accuracy of this method depends on the number of subintervals used, and increasing the number of subintervals generally leads to a more accurate approximation. However, using too many subintervals can introduce errors due to numerical instability and rounding. Other numerical methods, such as Simpson's rule and Gauss quadrature, may provide better accuracy than the trapezoid rule for the same number of function evaluations.\n",
        "\n",
        "The formula for the trapezoid rule is given by:\n",
        "\n",
        "∫[a,b] f(x) dx ≈ h/2 * [f(a) + 2f(a+h) + 2f(a+2h) + ... + 2f(b-h) + f(b)]\n",
        "\n",
        "where f(a) and f(b) are the values of the function at the endpoints of the interval, and f(a+i*h) is the value of the function at the ith point in the interval."
      ],
      "metadata": {
        "id": "Po8DVtioPyDQ"
      }
    }
  ]
}