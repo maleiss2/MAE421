{
  "nbformat": 4,
  "nbformat_minor": 0,
  "metadata": {
    "colab": {
      "provenance": [],
      "authorship_tag": "ABX9TyOj8p/7cYsvoOZq3X7p+OMj",
      "include_colab_link": true
    },
    "kernelspec": {
      "name": "python3",
      "display_name": "Python 3"
    },
    "language_info": {
      "name": "python"
    }
  },
  "cells": [
    {
      "cell_type": "markdown",
      "metadata": {
        "id": "view-in-github",
        "colab_type": "text"
      },
      "source": [
        "<a href=\"https://colab.research.google.com/github/maleiss2/MAE421/blob/main/ModuleH(22_1_22_3).ipynb\" target=\"_parent\"><img src=\"https://colab.research.google.com/assets/colab-badge.svg\" alt=\"Open In Colab\"/></a>"
      ]
    },
    {
      "cell_type": "markdown",
      "source": [
        "# **21.1 ODE Initial Value Problem**\n",
        "\n",
        "An ODE initial value problem is a mathematical problem that involves finding a function that satisfies a given differential equation and a set of initial conditions. The differential equation is of the form y'(x) = f(x,y(x)), where y(x) represents an unknown function and f(x,y(x)) represents a known function. This equation relates the value of the function y(x) to its derivative, y'(x), at each point x.\n",
        "\n",
        "The initial conditions for the problem are specified as y(x_0) = y_0, where x_0 is the initial value of x, and y_0 is the initial value of y(x). This means that we are given the value of the function y(x) at a specific point x_0, which serves as the starting point for our problem.\n",
        "\n",
        "The objective of an ODE initial value problem is to find a solution function y(x) that satisfies both the differential equation and the initial conditions. This means that the solution function must satisfy the given differential equation at every point x, and it must also take on the initial value y_0 at x_0.\n",
        "\n",
        "The solution function is typically obtained by solving the differential equation subject to the given initial conditions. This involves finding a function that satisfies the differential equation and the initial condition. Once the solution function is found, it can be used to predict the behavior of the system at all values of x.\n",
        "\n",
        "\n",
        "The general form of an ODE is:\n",
        "\n",
        "y'(x) = f(x,y(x))\n",
        "\n",
        "where y(x) is the unknown function, f(x,y(x)) is a known function, and y'(x) denotes the derivative of y(x) with respect to x.\n",
        "\n",
        "An initial value problem (IVP) for an ODE is specified by an equation of the form:\n",
        "\n",
        "y'(x) = f(x,y(x)), y(x_0) = y_0\n",
        "\n",
        "where x_0 is the initial value of x, y_0 is the initial value of y(x), and y'(x) is the derivative of y(x) with respect to x."
      ],
      "metadata": {
        "id": "frSiC8QqSCw8"
      }
    },
    {
      "cell_type": "markdown",
      "source": [
        "# **22.2 Reduction of Order**\n",
        "\n",
        "Reduction of order is a method used to solve second-order linear homogeneous differential equations. These differential equations have the form y''(x) + p(x)y'(x) + q(x)y(x) = 0, where p(x) and q(x) are known functions of x.\n",
        "\n",
        "The technique of reduction of order involves finding a second solution to the differential equation given that one solution is already known. This is achieved by assuming that the second solution has the form y_2(x) = v(x) y_1(x), where y_1(x) is the known solution and v(x) is an unknown function to be determined. This assumption reduces the order of the differential equation from two to one.\n",
        "\n",
        "The next step is to substitute y_2(x) into the differential equation and simplify. This results in a new differential equation involving v(x). By applying the properties of differential equations, we can solve for v(x) using standard techniques, such as integration or substitution.\n",
        "\n",
        "Once v(x) is determined, we can then form the second solution y_2(x) = v(x) y_1(x). The two solutions, y_1(x) and y_2(x), can then be combined to form the general solution to the differential equation.\n",
        "\n",
        "The reduction of order method provides a way to find a second solution to a second-order linear homogeneous differential equation, given that one solution is already known. This is a useful technique in differential equations as it allows us to solve more complex problems and obtain a complete set of solutions."
      ],
      "metadata": {
        "id": "Yi1kCUoDSPbs"
      }
    },
    {
      "cell_type": "markdown",
      "source": [
        "# **22.3 The Euler Method**\n",
        "\n",
        "The Euler method is a numerical approach used to approximate the solution of first-order ordinary differential equations (ODEs) with given initial conditions. This technique involves dividing the interval of interest into smaller sub-intervals, or steps, and computing an approximation of the solution at each step.\n",
        "\n",
        "The method starts by using the initial value of the function and its derivative to find the tangent line to the function at the initial point. The slope of the tangent line, which is the derivative at that point, is then used to estimate the value of the function at the next point in the interval. This estimation is made by taking a small step size, h, and using the Euler formula:\n",
        "\n",
        "y(x_1) = y(x_0) + h y'(x_0)\n",
        "\n",
        "where x_0 is the initial point, y(x_0) is the initial value of the function, y'(x_0) is the derivative of the function at that point, and y(x_1) is the estimated value of the function at the next point in the interval.\n",
        "\n",
        "To approximate the solution at additional points, the previous point is used as the starting point for the next approximation. This process is repeated until the desired endpoint is reached.\n",
        "\n",
        "The Euler method is a simple and widely used technique for approximating solutions to ODEs. However, the accuracy of the method is limited by the step size used. A large step size can result in significant errors, and the error accumulates as we move further away from the initial point. Additionally, the method can be less accurate for functions with rapid changes or when the solution involves oscillations or damping. Therefore, the Euler method is often used as a starting point for more advanced numerical methods that are more accurate and efficient."
      ],
      "metadata": {
        "id": "pMOQZ9XuSVPD"
      }
    }
  ]
}